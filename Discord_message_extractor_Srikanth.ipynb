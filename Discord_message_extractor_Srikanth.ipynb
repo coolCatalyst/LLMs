{
 "cells": [
  {
   "cell_type": "code",
   "execution_count": null,
   "id": "0f67138e-a226-44ee-bf6e-b85b42bbd635",
   "metadata": {},
   "outputs": [],
   "source": [
    "import discord\n",
    "import csv\n",
    "\n",
    "TOKEN = 'Your_Bot_Token'  # Replace with your own bot token\n",
    "CHANNEL_ID = 7583627488594738  # Replace with your desired channel ID\n",
    "\n",
    "intents = discord.Intents.default()\n",
    "intents.messages = True\n",
    "\n",
    "client = discord.Client(intents=intents)\n",
    "\n",
    "@client.event\n",
    "async def on_ready():\n",
    "    print(f'Logged in as {client.user.name} ({client.user.id})')\n",
    "\n",
    "    messages = []\n",
    "    channel = client.get_channel(CHANNEL_ID)\n",
    "\n",
    "    async for message in channel.history(limit=None):\n",
    "        messages.append([message.id, message.content])\n",
    "        print(f'Retrieving message - ID: {message.id}')\n",
    "\n",
    "    print('Number of messages collected:', len(messages))\n",
    "    save_to_csv(messages, 'messages.csv')\n",
    "    await client.close()\n",
    "\n",
    "def save_to_csv(messages, filename):\n",
    "    with open(filename, 'w', newline='', encoding='utf-8') as file:\n",
    "        csv_writer = csv.writer(file)\n",
    "        csv_writer.writerow(['ID', 'Message'])\n",
    "        csv_writer.writerows(messages)\n",
    "    print(f'Saved {len(messages)} messages to {filename}')\n",
    "\n",
    "client.run(TOKEN)\n"
   ]
  }
 ],
 "metadata": {
  "kernelspec": {
   "display_name": "Python 3.8 - AzureML",
   "language": "python",
   "name": "python38-azureml"
  },
  "language_info": {
   "codemirror_mode": {
    "name": "ipython",
    "version": 3
   },
   "file_extension": ".py",
   "mimetype": "text/x-python",
   "name": "python",
   "nbconvert_exporter": "python",
   "pygments_lexer": "ipython3",
   "version": "3.8.5"
  }
 },
 "nbformat": 4,
 "nbformat_minor": 5
}
