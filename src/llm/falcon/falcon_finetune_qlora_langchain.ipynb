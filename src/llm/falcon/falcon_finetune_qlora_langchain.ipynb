{
 "cells": [
  {
   "cell_type": "code",
   "execution_count": 6,
   "id": "e46e2a2a-4ff1-4423-9e65-462e94c4e03c",
   "metadata": {},
   "outputs": [],
   "source": [
    "import transformers"
   ]
  },
  {
   "cell_type": "code",
   "execution_count": 7,
   "id": "51cf4471-72c9-464a-9409-90121d1fd2cb",
   "metadata": {
    "tags": []
   },
   "outputs": [],
   "source": [
    "from transformers import AutoTokenizer\n",
    "from langchain.llms import HuggingFacePipeline\n",
    "from langchain.chains import ConversationChain\n",
    "from langchain import PromptTemplate, LLMChain\n",
    "from IPython.display import display, Markdown"
   ]
  },
  {
   "cell_type": "code",
   "execution_count": 1,
   "id": "6927be89-01be-44a4-961d-361543fe72aa",
   "metadata": {},
   "outputs": [],
   "source": [
    "model_name = \"tiiuae/falcon-7b-instruct\""
   ]
  },
  {
   "cell_type": "code",
   "execution_count": null,
   "id": "9c665ba7-00c0-4d27-9013-772493588744",
   "metadata": {},
   "outputs": [],
   "source": [
    "tokenizer = AutoTokenizer.from_pretrained(model_name)\n",
    "tokenizer.pad_token = tokenizer.eos_token"
   ]
  },
  {
   "cell_type": "code",
   "execution_count": 4,
   "id": "7075db47-cf37-4f22-9697-cb85b0a8ec99",
   "metadata": {},
   "outputs": [],
   "source": [
    "import torch\n",
    "from transformers import AutoModelForCausalLM"
   ]
  },
  {
   "cell_type": "code",
   "execution_count": null,
   "id": "c66f58a5-a5f2-4f15-a178-3c343441568e",
   "metadata": {},
   "outputs": [],
   "source": [
    "base_model = AutoModelForCausalLM.from_pretrained(\n",
    "    model_name,\n",
    "    torch_dtype=torch.float16,\n",
    "    load_in_8bit=False,\n",
    "    device_map=\"auto\",\n",
    "    trust_remote_code=True,\n",
    ")\n",
    "model = base_model"
   ]
  },
  {
   "cell_type": "code",
   "execution_count": null,
   "id": "197f9200-ae55-4e3f-bf84-0b900195f83a",
   "metadata": {},
   "outputs": [],
   "source": [
    "from datasets import load_dataset\n",
    "\n",
    "data = load_dataset(\"truthful_qa\", \"generation\")\n",
    "data = data[\"validation\"].filter(lambda item: item[\"category\"] == \"Misconceptions\")\n",
    "data"
   ]
  },
  {
   "cell_type": "code",
   "execution_count": 8,
   "id": "f9a6de90-f7eb-4fa7-9ff4-2f9a5bdc2a22",
   "metadata": {},
   "outputs": [],
   "source": [
    "default_template = \"\"\"\n",
    "Human: {input} \n",
    "AI:\"\"\"\n",
    "\n",
    "verbose_template = \"\"\"\n",
    "The following is a friendly conversation between a human and an AI.\n",
    "The AI is talkative and provides lots of specific details from its context. \n",
    "If the AI does not know the answer to a question, it truthfully says it does not know.\n",
    "\n",
    "Current conversation:\n",
    "Human: {input} \n",
    "AI:\"\"\"\n"
   ]
  },
  {
   "cell_type": "code",
   "execution_count": 9,
   "id": "71af009c-c29b-4133-be4c-ad3917ef8d96",
   "metadata": {},
   "outputs": [],
   "source": [
    "def get_chain(model, template, verbose=False):\n",
    "    pipeline = transformers.pipeline(\n",
    "        model=model,\n",
    "        tokenizer=tokenizer,\n",
    "        return_full_text=True,\n",
    "        task=\"text-generation\",\n",
    "        stop_sequence=\"\\nAI:\",\n",
    "        temperature=0.7,\n",
    "        max_new_tokens=512,\n",
    "        repetition_penalty=1.2,\n",
    "    )\n",
    "    return LLMChain(\n",
    "        llm=HuggingFacePipeline(pipeline=pipeline),\n",
    "        prompt=PromptTemplate.from_template(template),\n",
    "        verbose=verbose,\n",
    "    )\n",
    "\n",
    "def compare_results(base_model, fine_tuned_model, item, template=None, verbose=False):\n",
    "    if template is None:\n",
    "        template = default_template\n",
    "    base_chain = get_chain(base_model, template, verbose)\n",
    "    fine_tuned_chain = get_chain(fine_tuned_model, template, verbose)\n",
    "    base_res = base_chain.run(item[\"question\"])\n",
    "    fine_tuned_res = fine_tuned_chain.run(item[\"question\"])\n",
    "    display(\n",
    "        Markdown(\n",
    "            f\"\"\"\n",
    "### question: \n",
    "{item['question']}\n",
    "#### base_model:\n",
    "{base_res}\n",
    "#### fine_tuned_model:\n",
    "{fine_tuned_res}\n",
    "#### best answer:\n",
    "{item['best_answer']}\n",
    "#### source:\n",
    "{item['source']}\n",
    "\"\"\"\n",
    "        )\n",
    "    )"
   ]
  },
  {
   "cell_type": "code",
   "execution_count": null,
   "id": "ee10038a-1cf5-4454-800b-0d8709876a12",
   "metadata": {},
   "outputs": [],
   "source": [
    "base_chain_verbose = get_chain(base_model, verbose_template)\n",
    "fine_tuned_verbose = get_chain(model, verbose_template)"
   ]
  },
  {
   "cell_type": "code",
   "execution_count": null,
   "id": "3554e236-8358-4d5d-b57b-c703b97b7f5d",
   "metadata": {},
   "outputs": [],
   "source": [
    "compare_results(base_model, model, data[46])"
   ]
  },
  {
   "cell_type": "code",
   "execution_count": null,
   "id": "a70a0532-c6e4-4608-9526-f0e24451dfc1",
   "metadata": {},
   "outputs": [],
   "source": [
    "import random\n",
    "\n",
    "compare_results(base_model, model, random.choice(data))"
   ]
  },
  {
   "cell_type": "code",
   "execution_count": null,
   "id": "fc4c808d-dd7a-4dc4-ba8b-3fac77f2fc3e",
   "metadata": {},
   "outputs": [],
   "source": [
    "compare_results(base_model, model, random.choice(data), verbose_template, verbose=True)"
   ]
  },
  {
   "cell_type": "code",
   "execution_count": 14,
   "id": "30a66fce-3b51-4651-8443-71a5b254d0b2",
   "metadata": {},
   "outputs": [],
   "source": [
    "fine_tuning_template = \"\"\"\n",
    "Human: {question}\n",
    "AI: {best_answer}\n",
    "\"\"\"\n",
    "fine_tune_prompt = PromptTemplate.from_template(fine_tuning_template)"
   ]
  },
  {
   "cell_type": "code",
   "execution_count": null,
   "id": "8b7d12db-7515-4bd0-ab96-31b214e19a8b",
   "metadata": {},
   "outputs": [],
   "source": [
    "def tokenize(item):\n",
    "    return tokenizer(\n",
    "        fine_tune_prompt.format(\n",
    "            question=item[\"question\"], best_answer=item[\"best_answer\"]\n",
    "        ),\n",
    "        padding=True,\n",
    "        truncation=True,\n",
    "    )\n",
    "\n",
    "\n",
    "train_dataset = data.map(tokenize)"
   ]
  },
  {
   "cell_type": "code",
   "execution_count": 17,
   "id": "f9badac5-105a-48c2-a805-c09bff1f98dc",
   "metadata": {},
   "outputs": [],
   "source": [
    "import torch\n",
    "from transformers import BitsAndBytesConfig\n",
    "\n",
    "quantization_config = BitsAndBytesConfig(\n",
    "    load_in_4bit=True,\n",
    "    bnb_4bit_use_double_quant=True,\n",
    "    bnb_4bit_quant_type=\"nf4\",\n",
    "    bnb_4bit_compute_dtype=torch.bfloat16,\n",
    ")"
   ]
  },
  {
   "cell_type": "code",
   "execution_count": null,
   "id": "e75b73c3-5b38-4b15-bbc1-cd34e2639035",
   "metadata": {},
   "outputs": [],
   "source": [
    "from transformers import AutoModelForCausalLM\n",
    "\n",
    "model = AutoModelForCausalLM.from_pretrained(\n",
    "    model_name,\n",
    "    device_map=\"auto\",\n",
    "    quantization_config=quantization_config,\n",
    "    trust_remote_code=True,\n",
    ")"
   ]
  },
  {
   "cell_type": "code",
   "execution_count": null,
   "id": "4537c81e-f731-4edf-b06d-8eaccd33fc2a",
   "metadata": {},
   "outputs": [],
   "source": [
    "def print_num_params(model):\n",
    "    params = [\n",
    "        (param.numel(), param.numel() if param.requires_grad else 0)\n",
    "        for _, param in model.named_parameters()\n",
    "    ]\n",
    "    all, train = map(sum, zip(*params))\n",
    "    print(f\"{train=} / {all=} {train/all:f}\")\n",
    "\n",
    "\n",
    "print_num_params(model)"
   ]
  },
  {
   "cell_type": "code",
   "execution_count": 19,
   "id": "22c46299-e7c0-443a-9cc4-23799dcc1aa2",
   "metadata": {},
   "outputs": [],
   "source": [
    "# model.gradient_checkpointing_enable()"
   ]
  },
  {
   "cell_type": "code",
   "execution_count": null,
   "id": "6cb7ec06-2d07-4f48-bae8-63de425f5deb",
   "metadata": {},
   "outputs": [],
   "source": [
    "from peft import prepare_model_for_kbit_training, LoraConfig, get_peft_model\n",
    "\n",
    "model = prepare_model_for_kbit_training(model)\n",
    "config = LoraConfig(\n",
    "    r=16,\n",
    "    lora_alpha=32,\n",
    "    target_modules=[\"query_key_value\"],\n",
    "    lora_dropout=0.05,\n",
    "    bias=\"none\",\n",
    "    task_type=\"CAUSAL_LM\",\n",
    ")\n",
    "model = get_peft_model(model, config)\n",
    "print_num_params(model)"
   ]
  },
  {
   "cell_type": "code",
   "execution_count": null,
   "id": "65f7c124-5eb2-4088-99a2-dc4826913149",
   "metadata": {},
   "outputs": [],
   "source": [
    "import transformers\n",
    "\n",
    "output_dir = \"fine_tuned\"\n",
    "\n",
    "training_args = transformers.TrainingArguments(\n",
    "    per_device_train_batch_size=32,\n",
    "    gradient_accumulation_steps=4,\n",
    "    num_train_epochs=1,\n",
    "    learning_rate=2e-4,\n",
    "    fp16=True,\n",
    "    save_total_limit=3,\n",
    "    logging_steps=1,\n",
    "    output_dir=output_dir,\n",
    "    max_steps=100,\n",
    "    optim=\"paged_adamw_8bit\",\n",
    "    lr_scheduler_type=\"cosine\",\n",
    "    warmup_ratio=0.05,\n",
    ")\n",
    "trainer = transformers.Trainer(\n",
    "    model=model,\n",
    "    train_dataset=train_dataset,\n",
    "    args=training_args,\n",
    "    data_collator=transformers.DataCollatorForLanguageModeling(tokenizer, mlm=False),\n",
    ")\n",
    "model.config.use_cache = False\n",
    "trainer.train()"
   ]
  },
  {
   "cell_type": "code",
   "execution_count": null,
   "id": "052992af-b2ab-42b8-a08a-b4aa3714de18",
   "metadata": {},
   "outputs": [],
   "source": [
    "compare_results(base_model, model, data[6])"
   ]
  }
 ],
 "metadata": {
  "kernelspec": {
   "display_name": "Python 3",
   "language": "python",
   "name": "python3"
  },
  "language_info": {
   "codemirror_mode": {
    "name": "ipython",
    "version": 3
   },
   "file_extension": ".py",
   "mimetype": "text/x-python",
   "name": "python",
   "nbconvert_exporter": "python",
   "pygments_lexer": "ipython3",
   "version": "3.8.10"
  }
 },
 "nbformat": 4,
 "nbformat_minor": 5
}
