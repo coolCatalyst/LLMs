{
 "cells": [
  {
   "cell_type": "code",
   "execution_count": null,
   "id": "a570914f",
   "metadata": {},
   "outputs": [],
   "source": [
    "import os\n",
    "import shutil\n",
    "from transformers import AutoModelForCausalLM, AutoTokenizer, TrainingArguments, Trainer\n",
    "import ipywidgets as widgets\n",
    "from IPython.display import display, FileLink\n"
   ]
  },
  {
   "cell_type": "code",
   "execution_count": null,
   "id": "e898f29b-7e2e-4ffc-8a88-358a4b711c2f",
   "metadata": {},
   "outputs": [],
   "source": [
    "# Determine the current working directory and create an output subdirectory\n",
    "current_dir = os.getcwd()\n",
    "output_subdir = \"fine_tuned_model\"\n",
    "output_dir = os.path.join(current_dir, output_subdir)\n",
    "os.makedirs(output_dir, exist_ok=True)"
   ]
  },
  {
   "cell_type": "code",
   "execution_count": null,
   "id": "35e89320",
   "metadata": {},
   "outputs": [],
   "source": [
    "# Define the model name you want to use (e.g., \"gpt2\")\n",
    "model_name = \"gpt2\""
   ]
  },
  {
   "cell_type": "code",
   "execution_count": null,
   "id": "3217fc30",
   "metadata": {},
   "outputs": [],
   "source": [
    "# Load the tokenizer and model configuration from the Hugging Face Model Hub\n",
    "tokenizer = AutoTokenizer.from_pretrained(model_name, use_fast=True)\n",
    "model = AutoModelForCausalLM.from_pretrained(model_name)"
   ]
  },
  {
   "cell_type": "code",
   "execution_count": null,
   "id": "e3d1d94d",
   "metadata": {},
   "outputs": [],
   "source": [
    "# Define the TrainingArguments\n",
    "training_args = TrainingArguments(\n",
    "    output_dir=output_dir,\n",
    "    overwrite_output_dir=True,\n",
    "    num_train_epochs=3,\n",
    "    per_device_train_batch_size=4,\n",
    "    save_steps=10_000,\n",
    "    save_total_limit=2,\n",
    "    logging_dir='./logs',\n",
    "    logging_steps=100,\n",
    ")"
   ]
  },
  {
   "cell_type": "code",
   "execution_count": null,
   "id": "4957f735-6585-447e-80ef-09637fc49649",
   "metadata": {},
   "outputs": [],
   "source": [
    "# Define the Trainer\n",
    "trainer = Trainer(\n",
    "    model=model,\n",
    "    args=training_args,\n",
    ")"
   ]
  },
  {
   "cell_type": "code",
   "execution_count": null,
   "id": "fb5ce174-572c-4737-9f2e-e1345f524f88",
   "metadata": {},
   "outputs": [],
   "source": [
    "# Fine-tune the model\n",
    "trainer.train()"
   ]
  },
  {
   "cell_type": "code",
   "execution_count": null,
   "id": "8ad9d839-9d57-46c0-976a-f488c6c7f14b",
   "metadata": {},
   "outputs": [],
   "source": [
    "# Save the fine-tuned model\n",
    "model.save_pretrained(output_dir)\n",
    "tokenizer.save_pretrained(output_dir)"
   ]
  },
  {
   "cell_type": "code",
   "execution_count": null,
   "id": "89d36ebe-8a8f-4ce6-821b-88f8cb74c8da",
   "metadata": {},
   "outputs": [],
   "source": [
    "# Create a ZIP archive of the output directory\n",
    "shutil.make_archive(output_dir, 'zip', output_dir)"
   ]
  },
  {
   "cell_type": "code",
   "execution_count": null,
   "id": "598462ca-930b-48d6-b27a-353891e6ad88",
   "metadata": {},
   "outputs": [],
   "source": [
    "from ipywidgets import Button"
   ]
  },
  {
   "cell_type": "code",
   "execution_count": null,
   "id": "7578255a-fa2b-463f-8c15-09e570142818",
   "metadata": {},
   "outputs": [],
   "source": [
    "# Define a function to handle the button click event\n",
    "def download_button_clicked(b):\n",
    "    display(FileLink(zip_file_path))\n",
    "\n",
    "# Create a download button\n",
    "download_button = Button(description=\"Download Fine-Tuned Model\")\n",
    "download_button.on_click(download_button_clicked)\n",
    "\n",
    "# Display the button\n",
    "display(download_button)"
   ]
  }
 ],
 "metadata": {
  "kernelspec": {
   "display_name": "Python 3.8 - AzureML",
   "language": "python",
   "name": "python38-azureml"
  },
  "language_info": {
   "codemirror_mode": {
    "name": "ipython",
    "version": 3
   },
   "file_extension": ".py",
   "mimetype": "text/x-python",
   "name": "python",
   "nbconvert_exporter": "python",
   "pygments_lexer": "ipython3",
   "version": "3.8.5"
  }
 },
 "nbformat": 4,
 "nbformat_minor": 5
}
