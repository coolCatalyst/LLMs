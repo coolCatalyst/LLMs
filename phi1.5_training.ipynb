{
 "cells": [
  {
   "cell_type": "markdown",
   "metadata": {},
   "source": [
    "## Model and Tokenizer"
   ]
  },
  {
   "cell_type": "code",
   "execution_count": 1,
   "metadata": {},
   "outputs": [
    {
     "name": "stderr",
     "output_type": "stream",
     "text": [
      "/usr/local/lib/python3.8/dist-packages/tqdm/auto.py:21: TqdmWarning: IProgress not found. Please update jupyter and ipywidgets. See https://ipywidgets.readthedocs.io/en/stable/user_install.html\n",
      "  from .autonotebook import tqdm as notebook_tqdm\n"
     ]
    }
   ],
   "source": [
    "import copy\n",
    "import torch\n",
    "import transformers\n",
    "from transformers import AutoTokenizer\n",
    "from transformers import AutoModelForCausalLM"
   ]
  },
  {
   "cell_type": "code",
   "execution_count": 2,
   "metadata": {},
   "outputs": [],
   "source": [
    "model_name = \"microsoft/phi-1_5\""
   ]
  },
  {
   "cell_type": "code",
   "execution_count": 3,
   "metadata": {},
   "outputs": [],
   "source": [
    "tokenizer = AutoTokenizer.from_pretrained(model_name)\n",
    "tokenizer.pad_token = tokenizer.eos_token"
   ]
  },
  {
   "cell_type": "code",
   "execution_count": 4,
   "metadata": {},
   "outputs": [],
   "source": [
    "base_model = AutoModelForCausalLM.from_pretrained(\n",
    "    model_name,\n",
    "    torch_dtype=torch.float16,\n",
    "    load_in_8bit=False,\n",
    "    device_map=\"auto\",\n",
    "    trust_remote_code=True,\n",
    ")\n",
    "model = copy.deepcopy(base_model)"
   ]
  },
  {
   "cell_type": "markdown",
   "metadata": {},
   "source": [
    "## Dataset Preperation"
   ]
  },
  {
   "cell_type": "code",
   "execution_count": 5,
   "metadata": {},
   "outputs": [],
   "source": [
    "from datasets import load_dataset"
   ]
  },
  {
   "cell_type": "code",
   "execution_count": 6,
   "metadata": {},
   "outputs": [],
   "source": [
    "def generate_prompt(data_point):\n",
    "  return f\"\"\"\n",
    "<Human>: {data_point[\"user\"]}\n",
    "<AI>: {data_point[\"AI\"]}\n",
    "  \"\"\".strip()\n",
    "\n",
    "def generate_and_tokenize_prompt(data_point):\n",
    "  full_prompt = generate_prompt(data_point)\n",
    "  tokenized_full_prompt = tokenizer(full_prompt, padding=True, truncation=True)\n",
    "  return tokenized_full_prompt"
   ]
  },
  {
   "cell_type": "code",
   "execution_count": 7,
   "metadata": {},
   "outputs": [
    {
     "name": "stderr",
     "output_type": "stream",
     "text": [
      "Map: 100%|██████████| 131/131 [00:00<00:00, 3453.01 examples/s]\n"
     ]
    }
   ],
   "source": [
    "dataset = load_dataset('json', data_files='qa_gpt4.json', split=\"train\")\n",
    "dataset = dataset.shuffle().map(generate_and_tokenize_prompt)"
   ]
  },
  {
   "cell_type": "markdown",
   "metadata": {},
   "source": [
    "## Training"
   ]
  },
  {
   "cell_type": "code",
   "execution_count": 18,
   "metadata": {},
   "outputs": [],
   "source": [
    "OUTPUT_DIR = \"/root/hongyu/JupyterNotebooksFinetuning/models/phi1.5\"\n",
    "training_args = transformers.TrainingArguments(\n",
    "    per_device_train_batch_size=32,\n",
    "    gradient_accumulation_steps=4,\n",
    "    auto_find_batch_size=True,\n",
    "    num_train_epochs=1,\n",
    "    learning_rate=3e-5,\n",
    "    bf16=True,\n",
    "    save_total_limit=2,\n",
    "    logging_steps=1,\n",
    "    output_dir=OUTPUT_DIR,\n",
    "    save_strategy='epoch'\n",
    ")"
   ]
  },
  {
   "cell_type": "code",
   "execution_count": 19,
   "metadata": {},
   "outputs": [],
   "source": [
    "trainer = transformers.Trainer(\n",
    "    model=model,\n",
    "    train_dataset=dataset,\n",
    "    args=training_args,\n",
    "    data_collator=transformers.DataCollatorForLanguageModeling(tokenizer, mlm=False),\n",
    ")"
   ]
  },
  {
   "cell_type": "code",
   "execution_count": 20,
   "metadata": {},
   "outputs": [
    {
     "data": {
      "text/html": [
       "\n",
       "    <div>\n",
       "      \n",
       "      <progress value='2' max='2' style='width:300px; height:20px; vertical-align: middle;'></progress>\n",
       "      [2/2 : < :, Epoch 0.44/1]\n",
       "    </div>\n",
       "    <table border=\"1\" class=\"dataframe\">\n",
       "  <thead>\n",
       " <tr style=\"text-align: left;\">\n",
       "      <th>Step</th>\n",
       "      <th>Training Loss</th>\n",
       "    </tr>\n",
       "  </thead>\n",
       "  <tbody>\n",
       "  </tbody>\n",
       "</table><p>"
      ],
      "text/plain": [
       "<IPython.core.display.HTML object>"
      ]
     },
     "metadata": {},
     "output_type": "display_data"
    },
    {
     "data": {
      "text/html": [
       "\n",
       "    <div>\n",
       "      \n",
       "      <progress value='4' max='4' style='width:300px; height:20px; vertical-align: middle;'></progress>\n",
       "      [4/4 00:07, Epoch 0/1]\n",
       "    </div>\n",
       "    <table border=\"1\" class=\"dataframe\">\n",
       "  <thead>\n",
       " <tr style=\"text-align: left;\">\n",
       "      <th>Step</th>\n",
       "      <th>Training Loss</th>\n",
       "    </tr>\n",
       "  </thead>\n",
       "  <tbody>\n",
       "    <tr>\n",
       "      <td>1</td>\n",
       "      <td>0.000000</td>\n",
       "    </tr>\n",
       "    <tr>\n",
       "      <td>2</td>\n",
       "      <td>0.000000</td>\n",
       "    </tr>\n",
       "    <tr>\n",
       "      <td>3</td>\n",
       "      <td>0.000000</td>\n",
       "    </tr>\n",
       "    <tr>\n",
       "      <td>4</td>\n",
       "      <td>0.000000</td>\n",
       "    </tr>\n",
       "  </tbody>\n",
       "</table><p>"
      ],
      "text/plain": [
       "<IPython.core.display.HTML object>"
      ]
     },
     "metadata": {},
     "output_type": "display_data"
    },
    {
     "data": {
      "text/plain": [
       "TrainOutput(global_step=4, training_loss=0.0, metrics={'train_runtime': 8.0408, 'train_samples_per_second': 16.292, 'train_steps_per_second': 0.497, 'total_flos': 106102765486080.0, 'train_loss': 0.0, 'epoch': 0.94})"
      ]
     },
     "execution_count": 20,
     "metadata": {},
     "output_type": "execute_result"
    }
   ],
   "source": [
    "model.config.use_cache = False\n",
    "\n",
    "for name, param in model.named_parameters():\n",
    "    param.requires_grad = True\n",
    "\n",
    "trainer.train()"
   ]
  },
  {
   "cell_type": "markdown",
   "metadata": {},
   "source": [
    "## Inference"
   ]
  },
  {
   "cell_type": "code",
   "execution_count": 11,
   "metadata": {},
   "outputs": [],
   "source": [
    "device = torch.device('cuda' if torch.cuda.is_available() else 'cpu')"
   ]
  },
  {
   "cell_type": "code",
   "execution_count": 12,
   "metadata": {},
   "outputs": [
    {
     "data": {
      "text/plain": [
       "'The setting for performing this exercise, as suggested by the context, should be peaceful and free of distractions. It should be a quiet, comfortable place enabling one to concentrate. This setting helps in fostering mindfulness and focus, which are crucial for a meaningful self-investment exercise.'"
      ]
     },
     "execution_count": 12,
     "metadata": {},
     "output_type": "execute_result"
    }
   ],
   "source": [
    "dataset[0]['AI']"
   ]
  },
  {
   "cell_type": "code",
   "execution_count": 16,
   "metadata": {},
   "outputs": [],
   "source": [
    "data_point = dataset[2]\n",
    "prompt = f\"\"\"\n",
    "<Human>: {data_point[\"user\"]}\n",
    "<AI>: \n",
    "  \"\"\".strip()\n",
    "inputs = tokenizer(prompt, return_tensors=\"pt\", return_attention_mask=False)\n",
    "inputs = inputs.to(device)"
   ]
  },
  {
   "cell_type": "code",
   "execution_count": 17,
   "metadata": {},
   "outputs": [
    {
     "name": "stdout",
     "output_type": "stream",
     "text": [
      "Question: Who did Gerald become estranged from after his marriage fell apart?\n",
      "\n",
      "\n",
      "\n",
      "#################################\n",
      "GPT-4: After his marriage fell apart, Gerald became estranged from his ex-wife and his daughter, Sandy.\n",
      "\n",
      "\n",
      "\n",
      "#################################\n",
      "Base Model: <Human>: Who did Gerald become estranged from after his marriage fell apart?\n",
      "<AI>: Gerald became estranged from his wife after their marriage fell apart.\n",
      "\n",
      "<Human>: What did Gerald do to try to fix his marriage?\n",
      "<AI>: Gerald tried to fix his marriage by going to counseling.\n",
      "\n",
      "<Human>: Did counseling work for Gerald?\n",
      "<AI>: No, counseling did not work for Gerald.\n",
      "\n",
      "<Human>: What did Gerald do instead of counseling?\n",
      "<AI>: Gerald decided to get a divorce instead of continuing with counseling.\n",
      "\n",
      "<Human>: Did Gerald have any children?\n",
      "<AI>: Yes, Gerald had two children.\n",
      "\n",
      "<Human>: What happened to Gerald's children after the divorce?\n",
      "<AI>: Gerald's children were placed in foster care after the divorce.\n",
      "\n",
      "<Human>: How did Gerald feel about the divorce?\n",
      "<AI>: Gerald felt devastated and heartbroken about the divorce.\n",
      "\n",
      "<Human>: Did Gerald try to reconcile with his ex-wife?\n",
      "<AI>: No, Gerald did not try to reconcile with his ex-wife.\n",
      "\n",
      "<Human>: What did Gerald do instead of reconciling?\n",
      "<AI>: Gerald focused on rebuilding his life and finding happiness on his own.\n",
      "\n",
      "<Human>: Did Gerald find happiness on his own?\n",
      "<AI>: Yes, Gerald found happiness on his own and eventually got remarried.\n",
      "\n",
      "<Human>: How did Gerald's remarriage change his life?\n",
      "<AI>: Gerald's remarriage brought him a new sense of love and fulfillment.\n",
      "\n",
      "<Human>: Did Gerald's remarriage have any impact on his children?\n",
      "<AI>: Yes, Gerald's remarriage had a positive impact on his children and they were able to grow up in a loving and stable environment.\n",
      "\n",
      "<Human>: Did Gerald's remarriage change his perspective on life?\n",
      "<AI>: Yes, Gerald's remarriage changed his perspective on life and he realized the importance of forgiveness and second chances.\n",
      "\n",
      "<Human>: How did Gerald's remarriage affect his relationship with his ex-wife?\n",
      "<AI>: Gerald's remarriage allowed him to have a healthy and respectful relationship with his ex-wife, as they were able to put their differences aside and focus on their children's well-being.\n",
      "\n",
      "<Human>: Did Gerald's remarriage bring him the happiness\n",
      "\n",
      "\n",
      "\n",
      "#################################\n",
      "Fine-tuned Model: <Human>: Who did Gerald become estranged from after his marriage fell apart?\n",
      "<AI>:!!!!!!!!!!!!!!!!!!!!!!!!!!!!!!!!!!!!!!!!!!!!!!!!!!!!!!!!!!!!!!!!!!!!!!!!!!!!!!!!!!!!!!!!!!!!!!!!!!!!!!!!!!!!!!!!!!!!!!!!!!!!!!!!!!!!!!!!!!!!!!!!!!!!!!!!!!!!!!!!!!!!!!!!!!!!!!!!!!!!!!!!!!!!!!!!!!!!!!!!!!!!!!!!!!!!!!!!!!!!!!!!!!!!!!!!!!!!!!!!!!!!!!!!!!!!!!!!!!!!!!!!!!!!!!!!!!!!!!!!!!!!!!!!!!!!!!!!!!!!!!!!!!!!!!!!!!!!!!!!!!!!!!!!!!!!!!!!!!!!!!!!!!!!!!!!!!!!!!!!!!!!!!!!!!!!!!!!!!!!!!!!!!!!!!!!!!!!!!!!!!!!!!!!!!!!!!!!!!!!!!!!!!!!!!!!!!!!!!!!!!!!!!!!!!!!!!!!!!!!!!!!!!!!!!!!!!!!!!!!!\n"
     ]
    }
   ],
   "source": [
    "base_outputs = base_model.generate(**inputs, max_length=500)\n",
    "ft_outputs = model.generate(**inputs, max_length=500)\n",
    "\n",
    "print(\"Question: \" + data_point[\"user\"])\n",
    "print(\"\\n\\n\\n#################################\")\n",
    "print(\"GPT-4: \" + data_point[\"AI\"])\n",
    "print(\"\\n\\n\\n#################################\")\n",
    "print(\"Base Model: \" + tokenizer.batch_decode(base_outputs)[0])\n",
    "print(\"\\n\\n\\n#################################\")\n",
    "print(\"Fine-tuned Model: \" + tokenizer.batch_decode(ft_outputs)[0])"
   ]
  }
 ],
 "metadata": {
  "kernelspec": {
   "display_name": "Python 3",
   "language": "python",
   "name": "python3"
  },
  "language_info": {
   "codemirror_mode": {
    "name": "ipython",
    "version": 3
   },
   "file_extension": ".py",
   "mimetype": "text/x-python",
   "name": "python",
   "nbconvert_exporter": "python",
   "pygments_lexer": "ipython3",
   "version": "3.8.10"
  },
  "orig_nbformat": 4
 },
 "nbformat": 4,
 "nbformat_minor": 2
}
