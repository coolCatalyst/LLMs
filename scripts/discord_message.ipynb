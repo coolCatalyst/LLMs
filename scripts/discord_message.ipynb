{
 "cells": [
  {
   "cell_type": "code",
   "execution_count": null,
   "metadata": {},
   "outputs": [],
   "source": [
    "from src.db.discord_messge_extractor import discord_message_extractor\n",
    "from src.utils.csv import save_to_csv"
   ]
  },
  {
   "cell_type": "code",
   "execution_count": null,
   "metadata": {},
   "outputs": [],
   "source": [
    "channel_id = \"702878028841091093\"  # Replace with your desired channel ID\n",
    "token = \"YOUR_TOKEN\"  # Replace with your token\n",
    "\n",
    "saved_messages = discord_message_extractor(channel_id, token, message_limit=10)\n",
    "save_to_csv(saved_messages, \"messages.csv\")"
   ]
  }
 ],
 "metadata": {
  "language_info": {
   "name": "python"
  },
  "orig_nbformat": 4
 },
 "nbformat": 4,
 "nbformat_minor": 2
}
