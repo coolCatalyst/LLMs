{
 "cells": [
  {
   "cell_type": "code",
   "execution_count": null,
   "metadata": {},
   "outputs": [],
   "source": [
    "from src.db.discord_messge_extractor import retrieve_messages\n",
    "from src.utils.csv import save_to_csv"
   ]
  },
  {
   "cell_type": "code",
   "execution_count": null,
   "metadata": {},
   "outputs": [],
   "source": [
    "channel_id = \"702878028841091093\"  # Replace with your desired channel ID\n",
    "token = \"YOUR_TOKEN\"  # Replace with your token\n",
    "\n",
    "print(\"Fetching messages...\")\n",
    "saved_messages = retrieve_messages(channel_id)\n",
    "print(\"Fetching messages completed!\")\n",
    "print(\"Saving to CSV...\")\n",
    "save_to_csv(saved_messages, \"messages.csv\")\n",
    "print(\"Saving to CSV completed!\")"
   ]
  }
 ],
 "metadata": {
  "language_info": {
   "name": "python"
  },
  "orig_nbformat": 4
 },
 "nbformat": 4,
 "nbformat_minor": 2
}
