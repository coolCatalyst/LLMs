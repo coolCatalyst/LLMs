{
 "cells": [
  {
   "cell_type": "markdown",
   "metadata": {},
   "source": [
    "### Discord Message Extraction"
   ]
  },
  {
   "cell_type": "code",
   "execution_count": 1,
   "metadata": {},
   "outputs": [],
   "source": [
    "import sys\n",
    "sys.path.append(\"..\")"
   ]
  },
  {
   "cell_type": "code",
   "execution_count": 3,
   "metadata": {},
   "outputs": [],
   "source": [
    "from src.db.discord_messge_extractor import discord_message_extractor\n",
    "from src.utils.csv import save_to_csv"
   ]
  },
  {
   "cell_type": "code",
   "execution_count": null,
   "metadata": {},
   "outputs": [],
   "source": [
    "channel_id = \"702878028841091093\"  # Replace with your desired channel ID\n",
    "token = \"YOUR_TOKEN\"  # Replace with your token\n",
    "\n",
    "saved_messages = discord_message_extractor(channel_id, token, message_limit=10)\n",
    "save_to_csv(saved_messages, \"messages.csv\")"
   ]
  },
  {
   "cell_type": "markdown",
   "metadata": {},
   "source": [
    "### Question-Answer dataset generation based on document using GPT-4"
   ]
  },
  {
   "cell_type": "code",
   "execution_count": 2,
   "metadata": {},
   "outputs": [],
   "source": [
    "import os\n",
    "import openai\n",
    "from dotenv import load_dotenv\n",
    "from src.utils import text_split\n",
    "from src.db.qa_generator_doc_gpt4 import generate_qa_doc"
   ]
  },
  {
   "cell_type": "code",
   "execution_count": 4,
   "metadata": {},
   "outputs": [
    {
     "name": "stderr",
     "output_type": "stream",
     "text": [
      "  0%|          | 0/1 [00:00<?, ?it/s]"
     ]
    },
    {
     "name": "stderr",
     "output_type": "stream",
     "text": [
      "100%|██████████| 1/1 [00:59<00:00, 59.39s/it]\n"
     ]
    }
   ],
   "source": [
    "\n",
    "file_name = '../assets/financial_blog.txt'\n",
    "with open(file_name, \"r\") as file:\n",
    "        text = file.read()\n",
    "documents = text_split(text, chunk_size=300, chunk_overlap=100)\n",
    "load_dotenv()\n",
    "openai.api_key = os.getenv(\"OPENAI_API_KEY\")\n",
    "generate_qa_doc(documents=documents, output_dir='../assets', model_name='gpt-4', temperature=1.0, top_p=1.0)"
   ]
  }
 ],
 "metadata": {
  "kernelspec": {
   "display_name": "Python 3",
   "language": "python",
   "name": "python3"
  },
  "language_info": {
   "codemirror_mode": {
    "name": "ipython",
    "version": 3
   },
   "file_extension": ".py",
   "mimetype": "text/x-python",
   "name": "python",
   "nbconvert_exporter": "python",
   "pygments_lexer": "ipython3",
   "version": "3.8.10"
  },
  "orig_nbformat": 4
 },
 "nbformat": 4,
 "nbformat_minor": 2
}
