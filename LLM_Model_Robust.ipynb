{
 "cells": [
  {
   "cell_type": "code",
   "execution_count": null,
   "id": "c5baac1f-2c59-4f93-8f73-3ae53a83913e",
   "metadata": {},
   "outputs": [],
   "source": [
    "pip install einops"
   ]
  },
  {
   "cell_type": "code",
   "execution_count": null,
   "id": "6e82c0b8-f708-4a7b-a4d2-a1dc6d8ae4f3",
   "metadata": {},
   "outputs": [],
   "source": [
    "pip install --upgrade transformers\n"
   ]
  },
  {
   "cell_type": "code",
   "execution_count": null,
   "id": "72733e21-62ea-41e6-b8f8-96c0c35b5414",
   "metadata": {},
   "outputs": [],
   "source": [
    "import os\n",
    "import torch\n",
    "import transformers\n",
    "\n",
    "# Check and install necessary packages if required\n",
    "try:\n",
    "    import transformers\n",
    "    import torch\n",
    "except ImportError:\n",
    "    !pip install transformers torch\n",
    "\n",
    "# Define your custom module function here\n",
    "def custom_module_function(model, repo_id, tokenizer):\n",
    "    # Implement your custom module functionality here\n",
    "    # You can load or process the model, tokenizer, etc.\n",
    "    # Replace this with your actual logic\n",
    "    pass\n",
    "\n",
    "def generate_text(model, tokenizer, prompt, max_length=100, chunk_size=30, temperature=0.7):\n",
    "    generated_text = []\n",
    "    prompt_tokens = tokenizer(prompt, return_tensors=\"pt\").input_ids.to(device)\n",
    "\n",
    "    with torch.no_grad():\n",
    "        for i in range(0, max_length, chunk_size):\n",
    "            chunk_tokens = model.generate(\n",
    "                input_ids=prompt_tokens,\n",
    "                max_length=min(i + chunk_size, max_length),\n",
    "                temperature=temperature,\n",
    "            )\n",
    "            generated_text.append(chunk_tokens)\n",
    "\n",
    "    generated_tokens = torch.cat(generated_text, dim=1)\n",
    "    generated_text = tokenizer.decode(generated_tokens[0], skip_special_tokens=True)\n",
    "    return generated_text\n",
    "\n",
    "if __name__ == \"__main__\":\n",
    "    # Model and device configuration\n",
    "    device = \"cuda\" if torch.cuda.is_available() else \"cpu\"\n",
    "    dtype = torch.bfloat16 if device == \"cuda\" else torch.float32\n",
    "\n",
    "    repo_id = \"jordiclive/falcon_lora_40b_ckpt_500_oasst_1\"\n",
    "    base_model = \"tiiuae/falcon-40b\"\n",
    "\n",
    "    # Load tokenizer\n",
    "    tokenizer = transformers.AutoTokenizer.from_pretrained(repo_id)\n",
    "\n",
    "    # Load model\n",
    "    model = transformers.AutoModelForCausalLM.from_pretrained(\n",
    "        base_model, torch_dtype=dtype, trust_remote_code=True, cache_dir=\"./custom_cache\"\n",
    "    )\n",
    "\n",
    "    # Call your custom module function\n",
    "    custom_module_function(model, repo_id, tokenizer)\n",
    "\n",
    "    # Device configuration\n",
    "    model = model.to(device)\n",
    "    if dtype == torch.float16:\n",
    "        model = model.half()\n",
    "\n",
    "    # Generate text using the function\n",
    "    prompts = [\n",
    "        \"What is a meme, and what's the history behind this word?\",\n",
    "        \"What's the Earth's total population?\",\n",
    "        \"Write a story about the future of AI development\"\n",
    "    ]\n",
    "\n",
    "    for idx, prompt in enumerate(prompts):\n",
    "        try:\n",
    "            generated_text = generate_text(model, tokenizer, prompt)\n",
    "            print(f\"Generated Text {idx+1}:\", generated_text)\n",
    "        except Exception as e:\n",
    "            print(f\"An error occurred while generating text {idx+1}:\", e)\n"
   ]
  }
 ],
 "metadata": {
  "kernelspec": {
   "display_name": "Python 3",
   "language": "python",
   "name": "python3"
  },
  "language_info": {
   "codemirror_mode": {
    "name": "ipython",
    "version": 3
   },
   "file_extension": ".py",
   "mimetype": "text/x-python",
   "name": "python",
   "nbconvert_exporter": "python",
   "pygments_lexer": "ipython3",
   "version": "3.8.10"
  }
 },
 "nbformat": 4,
 "nbformat_minor": 5
}
