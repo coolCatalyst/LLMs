{
 "cells": [
  {
   "cell_type": "code",
   "execution_count": 14,
   "id": "a2c04063-5703-4e6c-8472-1a5e62155c30",
   "metadata": {},
   "outputs": [
    {
     "name": "stdout",
     "output_type": "stream",
     "text": [
      "Requirement already satisfied: numpy in /anaconda/envs/azureml_py38/lib/python3.8/site-packages (1.21.6)\n",
      "Successfully installed numpy\n",
      "Requirement already satisfied: matplotlib in /anaconda/envs/azureml_py38/lib/python3.8/site-packages (3.2.1)\n",
      "Requirement already satisfied: pyparsing!=2.0.4,!=2.1.2,!=2.1.6,>=2.0.1 in /anaconda/envs/azureml_py38/lib/python3.8/site-packages (from matplotlib) (3.1.0)\n",
      "Requirement already satisfied: numpy>=1.11 in /anaconda/envs/azureml_py38/lib/python3.8/site-packages (from matplotlib) (1.21.6)\n",
      "Requirement already satisfied: kiwisolver>=1.0.1 in /anaconda/envs/azureml_py38/lib/python3.8/site-packages (from matplotlib) (1.4.4)\n",
      "Requirement already satisfied: cycler>=0.10 in /anaconda/envs/azureml_py38/lib/python3.8/site-packages (from matplotlib) (0.11.0)\n",
      "Requirement already satisfied: python-dateutil>=2.1 in /anaconda/envs/azureml_py38/lib/python3.8/site-packages (from matplotlib) (2.8.2)\n",
      "Requirement already satisfied: six>=1.5 in /anaconda/envs/azureml_py38/lib/python3.8/site-packages (from python-dateutil>=2.1->matplotlib) (1.16.0)\n",
      "Successfully installed matplotlib\n"
     ]
    }
   ],
   "source": [
    "import sys\n",
    "import subprocess\n",
    "\n",
    "def custom_pip_install(package):\n",
    "    try:\n",
    "        subprocess.check_call([sys.executable, \"-m\", \"pip\", \"install\", package])\n",
    "        print(f\"Successfully installed {package}\")\n",
    "    except subprocess.CalledProcessError as e:\n",
    "        print(f\"Error installing {package}: {e}\")\n",
    "\n",
    "# List of packages to install\n",
    "packages_to_install = ['numpy', 'matplotlib']\n",
    "\n",
    "for package in packages_to_install:\n",
    "    custom_pip_install(package)\n"
   ]
  },
  {
   "cell_type": "code",
   "execution_count": null,
   "id": "3078de77-e174-410e-a725-18c61fe57313",
   "metadata": {},
   "outputs": [
    {
     "name": "stdout",
     "output_type": "stream",
     "text": [
      "Requirement already satisfied: package_name in /anaconda/envs/azureml_py38/lib/python3.8/site-packages (0.1)\n"
     ]
    }
   ],
   "source": [
    "import subprocess\n",
    "import sys\n",
    "import site\n",
    "\n",
    "def install_package_and_fix_import(package_name):\n",
    "    try:\n",
    "        # Create a virtual environment\n",
    "        subprocess.run([\"python3\", \"-m\", \"venv\", \"myenv\"])\n",
    "\n",
    "        # Activate the virtual environment\n",
    "        activate_script = \"myenv/bin/activate\"\n",
    "        subprocess.run([activate_script], shell=True)\n",
    "\n",
    "        # Install the package within the virtual environment\n",
    "        subprocess.run([\"pip\", \"install\", package_name])\n",
    "\n",
    "        # Get the site-packages directory of the virtual environment\n",
    "        venv_site_packages = site.getsitepackages()[0]\n",
    "\n",
    "        # Add the site-packages directory to sys.path\n",
    "        sys.path.append(venv_site_packages)\n",
    "\n",
    "        print(f\"Package {package_name} installed and sys.path updated successfully.\")\n",
    "    except Exception as e:\n",
    "        print(f\"An error occurred: {e}\")\n",
    "\n",
    "package_to_install = \"package_name\"\n",
    "install_package_and_fix_import(package_to_install)"
   ]
  },
  {
   "cell_type": "code",
   "execution_count": 13,
   "id": "d8986b04-c551-480e-8c5e-085f2c1fd970",
   "metadata": {},
   "outputs": [
    {
     "name": "stdout",
     "output_type": "stream",
     "text": [
      "Requirement already satisfied: package_name in ./myenv/lib/python3.8/site-packages (0.1)\n",
      "Package package_name installed in the virtual environment.\n",
      "sys.path updated to include virtual environment site-packages directory.\n",
      "Script completed successfully.\n"
     ]
    },
    {
     "name": "stderr",
     "output_type": "stream",
     "text": [
      "WARNING: You are using pip version 20.1.1; however, version 23.2.1 is available.\n",
      "You should consider upgrading via the '/mnt/batch/tasks/shared/LS_root/mounts/clusters/tippasanisrikanth99661/code/myenv/bin/python3 -m pip install --upgrade pip' command.\n"
     ]
    }
   ],
   "source": [
    "import os\n",
    "import subprocess\n",
    "import sys\n",
    "import site\n",
    "\n",
    "def create_virtualenv(venv_path):\n",
    "    try:\n",
    "        subprocess.run([\"python3\", \"-m\", \"venv\", venv_path])\n",
    "        print(f\"Virtual environment created at {venv_path}\")\n",
    "    except Exception as e:\n",
    "        print(f\"Failed to create virtual environment: {e}\")\n",
    "        sys.exit(1)\n",
    "\n",
    "def install_package(venv_path, package_name):\n",
    "    try:\n",
    "        subprocess.run([os.path.join(venv_path, \"bin\", \"pip\"), \"install\", package_name])\n",
    "        print(f\"Package {package_name} installed in the virtual environment.\")\n",
    "    except Exception as e:\n",
    "        print(f\"Failed to install package: {e}\")\n",
    "        sys.exit(1)\n",
    "\n",
    "def fix_import_issues(venv_path):\n",
    "    try:\n",
    "        venv_site_packages = site.getsitepackages()[0]\n",
    "        sys.path.append(venv_site_packages)\n",
    "        print(\"sys.path updated to include virtual environment site-packages directory.\")\n",
    "    except Exception as e:\n",
    "        print(f\"Failed to update sys.path: {e}\")\n",
    "        sys.exit(1)\n",
    "\n",
    "def main():\n",
    "    package_to_install = \"package_name\"\n",
    "    \n",
    "    # Specify the path for the virtual environment\n",
    "    venv_path = \"myenv\"\n",
    "\n",
    "    # Check if the virtual environment already exists\n",
    "    if not os.path.exists(venv_path):\n",
    "        create_virtualenv(venv_path)\n",
    "\n",
    "    # Activate the virtual environment\n",
    "    activate_script = os.path.join(venv_path, \"bin\", \"activate\")\n",
    "    subprocess.run([activate_script], shell=True)\n",
    "\n",
    "    # Install the package within the virtual environment\n",
    "    install_package(venv_path, package_to_install)\n",
    "\n",
    "    # Fix potential import issues\n",
    "    fix_import_issues(venv_path)\n",
    "\n",
    "    print(\"Script completed successfully.\")\n",
    "\n",
    "if __name__ == \"__main__\":\n",
    "    main()"
   ]
  }
 ],
 "metadata": {
  "kernelspec": {
   "display_name": "Python 3.8 - AzureML",
   "language": "python",
   "name": "python38-azureml"
  },
  "language_info": {
   "codemirror_mode": {
    "name": "ipython",
    "version": 3
   },
   "file_extension": ".py",
   "mimetype": "text/x-python",
   "name": "python",
   "nbconvert_exporter": "python",
   "pygments_lexer": "ipython3",
   "version": "3.8.5"
  }
 },
 "nbformat": 4,
 "nbformat_minor": 5
}
