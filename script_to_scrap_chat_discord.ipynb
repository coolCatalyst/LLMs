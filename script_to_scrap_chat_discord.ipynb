{
  "nbformat": 4,
  "nbformat_minor": 0,
  "metadata": {
    "colab": {
      "provenance": []
    },
    "kernelspec": {
      "name": "python3",
      "display_name": "Python 3"
    },
    "language_info": {
      "name": "python"
    }
  },
  "cells": [
    {
      "cell_type": "code",
      "execution_count": 2,
      "metadata": {
        "id": "-4Ywz8yJYpoS"
      },
      "outputs": [],
      "source": [
        "import requests\n",
        "import json"
      ]
    },
    {
      "cell_type": "code",
      "source": [
        "import pandas as pd\n",
        "chat=[]\n",
        "id=[]\n"
      ],
      "metadata": {
        "id": "gek_jXBbm6NQ"
      },
      "execution_count": 3,
      "outputs": []
    },
    {
      "cell_type": "code",
      "source": [
        "import requests\n",
        "import json\n",
        "\n",
        "def retrieve_messages(channelid):\n",
        "    num = 0\n",
        "    limit = 10\n",
        "\n",
        "    headers = {\n",
        "        'authorization': '#authorization id'\n",
        "    }\n",
        "\n",
        "    last_message_id = None\n",
        "\n",
        "    while True:\n",
        "        query_parameters = f'limit={limit}'\n",
        "        if last_message_id is not None:\n",
        "            query_parameters += f'&before={last_message_id}'\n",
        "\n",
        "        r = requests.get(\n",
        "            f'https://discord.com/api/v9/channels/{channelid}/messages?{query_parameters}',headers=headers\n",
        "            )\n",
        "        jsonn = json.loads(r.text)\n",
        "        if len(jsonn) == 0:\n",
        "            break\n",
        "\n",
        "        for value in jsonn:\n",
        "            print(value['content'], '\\n')\n",
        "            chat.append(value['content'])\n",
        "            last_message_id = value['id']\n",
        "            id.append(value['id'])\n",
        "            print(\"----------------------------\")\n",
        "            num=num+1\n",
        "\n",
        "    print('number of messages we collected is',num)\n",
        "\n",
        "retrieve_messages('channel id')"
      ],
      "metadata": {
        "id": "cLhgKs-mdj74"
      },
      "execution_count": null,
      "outputs": []
    },
    {
      "cell_type": "code",
      "source": [
        "df = pd.DataFrame(id, columns=['id']) #making pd dataframe\n",
        "df[\"chat\"]=chat"
      ],
      "metadata": {
        "id": "E6go5vCaoLY0"
      },
      "execution_count": 4,
      "outputs": []
    },
    {
      "cell_type": "code",
      "source": [
        "df.head(10) #dataframe to csv"
      ],
      "metadata": {
        "id": "yZrdxrlMqg8t"
      },
      "execution_count": null,
      "outputs": []
    },
    {
      "cell_type": "code",
      "source": [
        "df.to_csv('tech_chatting.csv')"
      ],
      "metadata": {
        "id": "1dbIEV7Mqh4r"
      },
      "execution_count": 6,
      "outputs": []
    }
  ]
}